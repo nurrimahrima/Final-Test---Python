{
  "nbformat": 4,
  "nbformat_minor": 0,
  "metadata": {
    "colab": {
      "name": "Nurrimah_FinalTest-Python.ipynb",
      "provenance": [],
      "collapsed_sections": []
    },
    "kernelspec": {
      "name": "python3",
      "display_name": "Python 3"
    }
  },
  "cells": [
    {
      "cell_type": "markdown",
      "metadata": {
        "id": "HPwXo64fm-FT",
        "colab_type": "text"
      },
      "source": [
        "***\n",
        "# <h1><center>FINAL TEST : PYTHON\n",
        "# <h1><center>NURRIMAH\n",
        "***"
      ]
    },
    {
      "cell_type": "markdown",
      "metadata": {
        "id": "JH3LVeuKnjx2",
        "colab_type": "text"
      },
      "source": [
        "## 1. Tuliskan script untuk import pandas library dan library untuk klasifikasi menggunakan Decision\n",
        "\n",
        "> Jawaban di bawah ini:"
      ]
    },
    {
      "cell_type": "code",
      "metadata": {
        "id": "ypVryQennAQO",
        "colab_type": "code",
        "colab": {}
      },
      "source": [
        "#import dataframe dan model 'Decision Tree' libraries\n",
        "import pandas as pd #pandas library\n",
        "from sklearn.tree import DecisionTreeClassifier #Decision Tree library"
      ],
      "execution_count": 0,
      "outputs": []
    },
    {
      "cell_type": "markdown",
      "metadata": {
        "id": "crZrXyuAoSDa",
        "colab_type": "text"
      },
      "source": [
        "## 2. Sebutkan setidaknya 2 library untuk fungsi visualisasi di python.\n",
        "\n",
        "> Jawaban di bawah ini:"
      ]
    },
    {
      "cell_type": "code",
      "metadata": {
        "id": "SltBf6O8n1UY",
        "colab_type": "code",
        "colab": {}
      },
      "source": [
        "#visualization library\n",
        "import seaborn as sns\n",
        "import matplotlib.pyplot as plt\n",
        "%matplotlib inline"
      ],
      "execution_count": 0,
      "outputs": []
    },
    {
      "cell_type": "markdown",
      "metadata": {
        "id": "G2zEZi8vpemJ",
        "colab_type": "text"
      },
      "source": [
        "## 3. Import loan_data.csv.\n",
        "Identifikasi tipe data dari masing-masing variable.<br>\n",
        "Tampilkan 5 baris pertama dan tampilkan informasi summary statistics-nya.\n",
        "\n",
        "> Jawaban di bawah ini:"
      ]
    },
    {
      "cell_type": "code",
      "metadata": {
        "id": "kIkLUhHZpRFg",
        "colab_type": "code",
        "colab": {}
      },
      "source": [
        "#Import data 'loan.csv' dengan pendefinisian variabel yaitu 'data'\n",
        "data=pd.read_csv('loan_data.csv')"
      ],
      "execution_count": 0,
      "outputs": []
    },
    {
      "cell_type": "code",
      "metadata": {
        "id": "3jGaLixpqFQz",
        "colab_type": "code",
        "colab": {
          "base_uri": "https://localhost:8080/",
          "height": 340
        },
        "outputId": "2146e13f-354d-4e4b-d1fb-3ad999c36a0c"
      },
      "source": [
        "#Identifikasi tipe data dari masing-masing variable dapat menggunakan fungsi 'info' dan 'dtypes'\n",
        "data.info()"
      ],
      "execution_count": 19,
      "outputs": [
        {
          "output_type": "stream",
          "text": [
            "<class 'pandas.core.frame.DataFrame'>\n",
            "RangeIndex: 9578 entries, 0 to 9577\n",
            "Data columns (total 14 columns):\n",
            "credit.policy        9578 non-null int64\n",
            "purpose              9578 non-null object\n",
            "int.rate             9578 non-null float64\n",
            "installment          9578 non-null float64\n",
            "log.annual.inc       9578 non-null float64\n",
            "dti                  9578 non-null float64\n",
            "fico                 9578 non-null int64\n",
            "days.with.cr.line    9578 non-null float64\n",
            "revol.bal            9578 non-null int64\n",
            "revol.util           9578 non-null float64\n",
            "inq.last.6mths       9578 non-null int64\n",
            "delinq.2yrs          9578 non-null int64\n",
            "pub.rec              9578 non-null int64\n",
            "not.fully.paid       9578 non-null int64\n",
            "dtypes: float64(6), int64(7), object(1)\n",
            "memory usage: 1.0+ MB\n"
          ],
          "name": "stdout"
        }
      ]
    },
    {
      "cell_type": "code",
      "metadata": {
        "id": "D_zJz-NlqYII",
        "colab_type": "code",
        "colab": {
          "base_uri": "https://localhost:8080/",
          "height": 272
        },
        "outputId": "ef15a4cf-0a74-497d-be74-d7491ca22710"
      },
      "source": [
        "data.dtypes"
      ],
      "execution_count": 9,
      "outputs": [
        {
          "output_type": "execute_result",
          "data": {
            "text/plain": [
              "credit.policy          int64\n",
              "purpose               object\n",
              "int.rate             float64\n",
              "installment          float64\n",
              "log.annual.inc       float64\n",
              "dti                  float64\n",
              "fico                   int64\n",
              "days.with.cr.line    float64\n",
              "revol.bal              int64\n",
              "revol.util           float64\n",
              "inq.last.6mths         int64\n",
              "delinq.2yrs            int64\n",
              "pub.rec                int64\n",
              "not.fully.paid         int64\n",
              "dtype: object"
            ]
          },
          "metadata": {
            "tags": []
          },
          "execution_count": 9
        }
      ]
    },
    {
      "cell_type": "markdown",
      "metadata": {
        "id": "DFjBAGkIsdaC",
        "colab_type": "text"
      },
      "source": [
        " >Tipe data dari variabel dalam data ada:\n",
        "- integer berjumlah 7 variabel, yaitu:<Br>\n",
        "  1. credit.policy\n",
        "  2. fico\n",
        "  3. revol.bal\n",
        "  4. inq.last.6mths\n",
        "  5. delinq.2yrs\n",
        "  6. pub.rec\n",
        "  7. not.fully.paid\n",
        ">\n",
        "> - float berjumlah 6 variabel, yaitu:<Br>\n",
        "  1. int.rate\n",
        "  2. installment\n",
        "  3. log.annual.inc\n",
        "  4. dti\n",
        "  5. days.with.cr.line\n",
        "  6. revol.util\n",
        ">\n",
        ">- object berjumlah 1 variabel, yaitu:<br>\n",
        "  1. object"
      ]
    },
    {
      "cell_type": "code",
      "metadata": {
        "id": "1A2JTuSpqiCO",
        "colab_type": "code",
        "colab": {
          "base_uri": "https://localhost:8080/",
          "height": 224
        },
        "outputId": "e0e237db-3145-445f-dd01-338072f6cfbd"
      },
      "source": [
        "#Tampilkan 5 baris pertama dan tampilkan informasi summary statistics-nya.\n",
        "data.head()"
      ],
      "execution_count": 10,
      "outputs": [
        {
          "output_type": "execute_result",
          "data": {
            "text/html": [
              "<div>\n",
              "<style scoped>\n",
              "    .dataframe tbody tr th:only-of-type {\n",
              "        vertical-align: middle;\n",
              "    }\n",
              "\n",
              "    .dataframe tbody tr th {\n",
              "        vertical-align: top;\n",
              "    }\n",
              "\n",
              "    .dataframe thead th {\n",
              "        text-align: right;\n",
              "    }\n",
              "</style>\n",
              "<table border=\"1\" class=\"dataframe\">\n",
              "  <thead>\n",
              "    <tr style=\"text-align: right;\">\n",
              "      <th></th>\n",
              "      <th>credit.policy</th>\n",
              "      <th>purpose</th>\n",
              "      <th>int.rate</th>\n",
              "      <th>installment</th>\n",
              "      <th>log.annual.inc</th>\n",
              "      <th>dti</th>\n",
              "      <th>fico</th>\n",
              "      <th>days.with.cr.line</th>\n",
              "      <th>revol.bal</th>\n",
              "      <th>revol.util</th>\n",
              "      <th>inq.last.6mths</th>\n",
              "      <th>delinq.2yrs</th>\n",
              "      <th>pub.rec</th>\n",
              "      <th>not.fully.paid</th>\n",
              "    </tr>\n",
              "  </thead>\n",
              "  <tbody>\n",
              "    <tr>\n",
              "      <th>0</th>\n",
              "      <td>1</td>\n",
              "      <td>debt_consolidation</td>\n",
              "      <td>0.1189</td>\n",
              "      <td>829.10</td>\n",
              "      <td>11.350407</td>\n",
              "      <td>19.48</td>\n",
              "      <td>737</td>\n",
              "      <td>5639.958333</td>\n",
              "      <td>28854</td>\n",
              "      <td>52.1</td>\n",
              "      <td>0</td>\n",
              "      <td>0</td>\n",
              "      <td>0</td>\n",
              "      <td>0</td>\n",
              "    </tr>\n",
              "    <tr>\n",
              "      <th>1</th>\n",
              "      <td>1</td>\n",
              "      <td>credit_card</td>\n",
              "      <td>0.1071</td>\n",
              "      <td>228.22</td>\n",
              "      <td>11.082143</td>\n",
              "      <td>14.29</td>\n",
              "      <td>707</td>\n",
              "      <td>2760.000000</td>\n",
              "      <td>33623</td>\n",
              "      <td>76.7</td>\n",
              "      <td>0</td>\n",
              "      <td>0</td>\n",
              "      <td>0</td>\n",
              "      <td>0</td>\n",
              "    </tr>\n",
              "    <tr>\n",
              "      <th>2</th>\n",
              "      <td>1</td>\n",
              "      <td>debt_consolidation</td>\n",
              "      <td>0.1357</td>\n",
              "      <td>366.86</td>\n",
              "      <td>10.373491</td>\n",
              "      <td>11.63</td>\n",
              "      <td>682</td>\n",
              "      <td>4710.000000</td>\n",
              "      <td>3511</td>\n",
              "      <td>25.6</td>\n",
              "      <td>1</td>\n",
              "      <td>0</td>\n",
              "      <td>0</td>\n",
              "      <td>0</td>\n",
              "    </tr>\n",
              "    <tr>\n",
              "      <th>3</th>\n",
              "      <td>1</td>\n",
              "      <td>debt_consolidation</td>\n",
              "      <td>0.1008</td>\n",
              "      <td>162.34</td>\n",
              "      <td>11.350407</td>\n",
              "      <td>8.10</td>\n",
              "      <td>712</td>\n",
              "      <td>2699.958333</td>\n",
              "      <td>33667</td>\n",
              "      <td>73.2</td>\n",
              "      <td>1</td>\n",
              "      <td>0</td>\n",
              "      <td>0</td>\n",
              "      <td>0</td>\n",
              "    </tr>\n",
              "    <tr>\n",
              "      <th>4</th>\n",
              "      <td>1</td>\n",
              "      <td>credit_card</td>\n",
              "      <td>0.1426</td>\n",
              "      <td>102.92</td>\n",
              "      <td>11.299732</td>\n",
              "      <td>14.97</td>\n",
              "      <td>667</td>\n",
              "      <td>4066.000000</td>\n",
              "      <td>4740</td>\n",
              "      <td>39.5</td>\n",
              "      <td>0</td>\n",
              "      <td>1</td>\n",
              "      <td>0</td>\n",
              "      <td>0</td>\n",
              "    </tr>\n",
              "  </tbody>\n",
              "</table>\n",
              "</div>"
            ],
            "text/plain": [
              "   credit.policy             purpose  ...  pub.rec  not.fully.paid\n",
              "0              1  debt_consolidation  ...        0               0\n",
              "1              1         credit_card  ...        0               0\n",
              "2              1  debt_consolidation  ...        0               0\n",
              "3              1  debt_consolidation  ...        0               0\n",
              "4              1         credit_card  ...        0               0\n",
              "\n",
              "[5 rows x 14 columns]"
            ]
          },
          "metadata": {
            "tags": []
          },
          "execution_count": 10
        }
      ]
    },
    {
      "cell_type": "code",
      "metadata": {
        "id": "4TPXbM22q8v_",
        "colab_type": "code",
        "colab": {
          "base_uri": "https://localhost:8080/",
          "height": 317
        },
        "outputId": "5511591a-2daa-4de9-92b5-63155c1551a3"
      },
      "source": [
        "data.describe()"
      ],
      "execution_count": 11,
      "outputs": [
        {
          "output_type": "execute_result",
          "data": {
            "text/html": [
              "<div>\n",
              "<style scoped>\n",
              "    .dataframe tbody tr th:only-of-type {\n",
              "        vertical-align: middle;\n",
              "    }\n",
              "\n",
              "    .dataframe tbody tr th {\n",
              "        vertical-align: top;\n",
              "    }\n",
              "\n",
              "    .dataframe thead th {\n",
              "        text-align: right;\n",
              "    }\n",
              "</style>\n",
              "<table border=\"1\" class=\"dataframe\">\n",
              "  <thead>\n",
              "    <tr style=\"text-align: right;\">\n",
              "      <th></th>\n",
              "      <th>credit.policy</th>\n",
              "      <th>int.rate</th>\n",
              "      <th>installment</th>\n",
              "      <th>log.annual.inc</th>\n",
              "      <th>dti</th>\n",
              "      <th>fico</th>\n",
              "      <th>days.with.cr.line</th>\n",
              "      <th>revol.bal</th>\n",
              "      <th>revol.util</th>\n",
              "      <th>inq.last.6mths</th>\n",
              "      <th>delinq.2yrs</th>\n",
              "      <th>pub.rec</th>\n",
              "      <th>not.fully.paid</th>\n",
              "    </tr>\n",
              "  </thead>\n",
              "  <tbody>\n",
              "    <tr>\n",
              "      <th>count</th>\n",
              "      <td>9578.000000</td>\n",
              "      <td>9578.000000</td>\n",
              "      <td>9578.000000</td>\n",
              "      <td>9578.000000</td>\n",
              "      <td>9578.000000</td>\n",
              "      <td>9578.000000</td>\n",
              "      <td>9578.000000</td>\n",
              "      <td>9.578000e+03</td>\n",
              "      <td>9578.000000</td>\n",
              "      <td>9578.000000</td>\n",
              "      <td>9578.000000</td>\n",
              "      <td>9578.000000</td>\n",
              "      <td>9578.000000</td>\n",
              "    </tr>\n",
              "    <tr>\n",
              "      <th>mean</th>\n",
              "      <td>0.804970</td>\n",
              "      <td>0.122640</td>\n",
              "      <td>319.089413</td>\n",
              "      <td>10.932117</td>\n",
              "      <td>12.606679</td>\n",
              "      <td>710.846314</td>\n",
              "      <td>4560.767197</td>\n",
              "      <td>1.691396e+04</td>\n",
              "      <td>46.799236</td>\n",
              "      <td>1.577469</td>\n",
              "      <td>0.163708</td>\n",
              "      <td>0.062122</td>\n",
              "      <td>0.160054</td>\n",
              "    </tr>\n",
              "    <tr>\n",
              "      <th>std</th>\n",
              "      <td>0.396245</td>\n",
              "      <td>0.026847</td>\n",
              "      <td>207.071301</td>\n",
              "      <td>0.614813</td>\n",
              "      <td>6.883970</td>\n",
              "      <td>37.970537</td>\n",
              "      <td>2496.930377</td>\n",
              "      <td>3.375619e+04</td>\n",
              "      <td>29.014417</td>\n",
              "      <td>2.200245</td>\n",
              "      <td>0.546215</td>\n",
              "      <td>0.262126</td>\n",
              "      <td>0.366676</td>\n",
              "    </tr>\n",
              "    <tr>\n",
              "      <th>min</th>\n",
              "      <td>0.000000</td>\n",
              "      <td>0.060000</td>\n",
              "      <td>15.670000</td>\n",
              "      <td>7.547502</td>\n",
              "      <td>0.000000</td>\n",
              "      <td>612.000000</td>\n",
              "      <td>178.958333</td>\n",
              "      <td>0.000000e+00</td>\n",
              "      <td>0.000000</td>\n",
              "      <td>0.000000</td>\n",
              "      <td>0.000000</td>\n",
              "      <td>0.000000</td>\n",
              "      <td>0.000000</td>\n",
              "    </tr>\n",
              "    <tr>\n",
              "      <th>25%</th>\n",
              "      <td>1.000000</td>\n",
              "      <td>0.103900</td>\n",
              "      <td>163.770000</td>\n",
              "      <td>10.558414</td>\n",
              "      <td>7.212500</td>\n",
              "      <td>682.000000</td>\n",
              "      <td>2820.000000</td>\n",
              "      <td>3.187000e+03</td>\n",
              "      <td>22.600000</td>\n",
              "      <td>0.000000</td>\n",
              "      <td>0.000000</td>\n",
              "      <td>0.000000</td>\n",
              "      <td>0.000000</td>\n",
              "    </tr>\n",
              "    <tr>\n",
              "      <th>50%</th>\n",
              "      <td>1.000000</td>\n",
              "      <td>0.122100</td>\n",
              "      <td>268.950000</td>\n",
              "      <td>10.928884</td>\n",
              "      <td>12.665000</td>\n",
              "      <td>707.000000</td>\n",
              "      <td>4139.958333</td>\n",
              "      <td>8.596000e+03</td>\n",
              "      <td>46.300000</td>\n",
              "      <td>1.000000</td>\n",
              "      <td>0.000000</td>\n",
              "      <td>0.000000</td>\n",
              "      <td>0.000000</td>\n",
              "    </tr>\n",
              "    <tr>\n",
              "      <th>75%</th>\n",
              "      <td>1.000000</td>\n",
              "      <td>0.140700</td>\n",
              "      <td>432.762500</td>\n",
              "      <td>11.291293</td>\n",
              "      <td>17.950000</td>\n",
              "      <td>737.000000</td>\n",
              "      <td>5730.000000</td>\n",
              "      <td>1.824950e+04</td>\n",
              "      <td>70.900000</td>\n",
              "      <td>2.000000</td>\n",
              "      <td>0.000000</td>\n",
              "      <td>0.000000</td>\n",
              "      <td>0.000000</td>\n",
              "    </tr>\n",
              "    <tr>\n",
              "      <th>max</th>\n",
              "      <td>1.000000</td>\n",
              "      <td>0.216400</td>\n",
              "      <td>940.140000</td>\n",
              "      <td>14.528354</td>\n",
              "      <td>29.960000</td>\n",
              "      <td>827.000000</td>\n",
              "      <td>17639.958330</td>\n",
              "      <td>1.207359e+06</td>\n",
              "      <td>119.000000</td>\n",
              "      <td>33.000000</td>\n",
              "      <td>13.000000</td>\n",
              "      <td>5.000000</td>\n",
              "      <td>1.000000</td>\n",
              "    </tr>\n",
              "  </tbody>\n",
              "</table>\n",
              "</div>"
            ],
            "text/plain": [
              "       credit.policy     int.rate  ...      pub.rec  not.fully.paid\n",
              "count    9578.000000  9578.000000  ...  9578.000000     9578.000000\n",
              "mean        0.804970     0.122640  ...     0.062122        0.160054\n",
              "std         0.396245     0.026847  ...     0.262126        0.366676\n",
              "min         0.000000     0.060000  ...     0.000000        0.000000\n",
              "25%         1.000000     0.103900  ...     0.000000        0.000000\n",
              "50%         1.000000     0.122100  ...     0.000000        0.000000\n",
              "75%         1.000000     0.140700  ...     0.000000        0.000000\n",
              "max         1.000000     0.216400  ...     5.000000        1.000000\n",
              "\n",
              "[8 rows x 13 columns]"
            ]
          },
          "metadata": {
            "tags": []
          },
          "execution_count": 11
        }
      ]
    },
    {
      "cell_type": "markdown",
      "metadata": {
        "id": "Bqtc_YYqraLQ",
        "colab_type": "text"
      },
      "source": [
        "## 4. Lakukan pengecekan missing data dan duplicated-row.\n",
        "Jika ada, sebutkan kolom apa yang ada missing data.<br>\n",
        "Apakah ada duplicated-row?\n",
        "\n",
        "> Jawaban di bawah ini:"
      ]
    },
    {
      "cell_type": "code",
      "metadata": {
        "id": "acWyFzlGrBXC",
        "colab_type": "code",
        "colab": {
          "base_uri": "https://localhost:8080/",
          "height": 483
        },
        "outputId": "f66a875e-d88e-48b6-c6d4-543fd6108d5a"
      },
      "source": [
        "#sebutkan kolom apa yang ada missing data\n",
        "miss = pd.DataFrame()\n",
        "count_missing = data.isnull().sum().sort_values(ascending = False)\n",
        "miss['count_missing'] = count_missing\n",
        "miss"
      ],
      "execution_count": 23,
      "outputs": [
        {
          "output_type": "execute_result",
          "data": {
            "text/html": [
              "<div>\n",
              "<style scoped>\n",
              "    .dataframe tbody tr th:only-of-type {\n",
              "        vertical-align: middle;\n",
              "    }\n",
              "\n",
              "    .dataframe tbody tr th {\n",
              "        vertical-align: top;\n",
              "    }\n",
              "\n",
              "    .dataframe thead th {\n",
              "        text-align: right;\n",
              "    }\n",
              "</style>\n",
              "<table border=\"1\" class=\"dataframe\">\n",
              "  <thead>\n",
              "    <tr style=\"text-align: right;\">\n",
              "      <th></th>\n",
              "      <th>count_missing</th>\n",
              "    </tr>\n",
              "  </thead>\n",
              "  <tbody>\n",
              "    <tr>\n",
              "      <th>not.fully.paid</th>\n",
              "      <td>0</td>\n",
              "    </tr>\n",
              "    <tr>\n",
              "      <th>pub.rec</th>\n",
              "      <td>0</td>\n",
              "    </tr>\n",
              "    <tr>\n",
              "      <th>delinq.2yrs</th>\n",
              "      <td>0</td>\n",
              "    </tr>\n",
              "    <tr>\n",
              "      <th>inq.last.6mths</th>\n",
              "      <td>0</td>\n",
              "    </tr>\n",
              "    <tr>\n",
              "      <th>revol.util</th>\n",
              "      <td>0</td>\n",
              "    </tr>\n",
              "    <tr>\n",
              "      <th>revol.bal</th>\n",
              "      <td>0</td>\n",
              "    </tr>\n",
              "    <tr>\n",
              "      <th>days.with.cr.line</th>\n",
              "      <td>0</td>\n",
              "    </tr>\n",
              "    <tr>\n",
              "      <th>fico</th>\n",
              "      <td>0</td>\n",
              "    </tr>\n",
              "    <tr>\n",
              "      <th>dti</th>\n",
              "      <td>0</td>\n",
              "    </tr>\n",
              "    <tr>\n",
              "      <th>log.annual.inc</th>\n",
              "      <td>0</td>\n",
              "    </tr>\n",
              "    <tr>\n",
              "      <th>installment</th>\n",
              "      <td>0</td>\n",
              "    </tr>\n",
              "    <tr>\n",
              "      <th>int.rate</th>\n",
              "      <td>0</td>\n",
              "    </tr>\n",
              "    <tr>\n",
              "      <th>purpose</th>\n",
              "      <td>0</td>\n",
              "    </tr>\n",
              "    <tr>\n",
              "      <th>credit.policy</th>\n",
              "      <td>0</td>\n",
              "    </tr>\n",
              "  </tbody>\n",
              "</table>\n",
              "</div>"
            ],
            "text/plain": [
              "                   count_missing\n",
              "not.fully.paid                 0\n",
              "pub.rec                        0\n",
              "delinq.2yrs                    0\n",
              "inq.last.6mths                 0\n",
              "revol.util                     0\n",
              "revol.bal                      0\n",
              "days.with.cr.line              0\n",
              "fico                           0\n",
              "dti                            0\n",
              "log.annual.inc                 0\n",
              "installment                    0\n",
              "int.rate                       0\n",
              "purpose                        0\n",
              "credit.policy                  0"
            ]
          },
          "metadata": {
            "tags": []
          },
          "execution_count": 23
        }
      ]
    },
    {
      "cell_type": "markdown",
      "metadata": {
        "id": "Pi6Bm33tuIee",
        "colab_type": "text"
      },
      "source": [
        ">Data tidak mengandung missing value."
      ]
    },
    {
      "cell_type": "code",
      "metadata": {
        "id": "6nyjrS6DsLlA",
        "colab_type": "code",
        "colab": {
          "base_uri": "https://localhost:8080/",
          "height": 69
        },
        "outputId": "72005792-1d4b-4960-9f18-91ce007b046f"
      },
      "source": [
        "#Apakah ada duplicated-row?\n",
        "duplicated_rows = data[data.duplicated()]\n",
        "duplicated_rows"
      ],
      "execution_count": 26,
      "outputs": [
        {
          "output_type": "execute_result",
          "data": {
            "text/html": [
              "<div>\n",
              "<style scoped>\n",
              "    .dataframe tbody tr th:only-of-type {\n",
              "        vertical-align: middle;\n",
              "    }\n",
              "\n",
              "    .dataframe tbody tr th {\n",
              "        vertical-align: top;\n",
              "    }\n",
              "\n",
              "    .dataframe thead th {\n",
              "        text-align: right;\n",
              "    }\n",
              "</style>\n",
              "<table border=\"1\" class=\"dataframe\">\n",
              "  <thead>\n",
              "    <tr style=\"text-align: right;\">\n",
              "      <th></th>\n",
              "      <th>credit.policy</th>\n",
              "      <th>purpose</th>\n",
              "      <th>int.rate</th>\n",
              "      <th>installment</th>\n",
              "      <th>log.annual.inc</th>\n",
              "      <th>dti</th>\n",
              "      <th>fico</th>\n",
              "      <th>days.with.cr.line</th>\n",
              "      <th>revol.bal</th>\n",
              "      <th>revol.util</th>\n",
              "      <th>inq.last.6mths</th>\n",
              "      <th>delinq.2yrs</th>\n",
              "      <th>pub.rec</th>\n",
              "      <th>not.fully.paid</th>\n",
              "    </tr>\n",
              "  </thead>\n",
              "  <tbody>\n",
              "  </tbody>\n",
              "</table>\n",
              "</div>"
            ],
            "text/plain": [
              "Empty DataFrame\n",
              "Columns: [credit.policy, purpose, int.rate, installment, log.annual.inc, dti, fico, days.with.cr.line, revol.bal, revol.util, inq.last.6mths, delinq.2yrs, pub.rec, not.fully.paid]\n",
              "Index: []"
            ]
          },
          "metadata": {
            "tags": []
          },
          "execution_count": 26
        }
      ]
    },
    {
      "cell_type": "markdown",
      "metadata": {
        "id": "gZpAMGp6vGf7",
        "colab_type": "text"
      },
      "source": [
        ">Data tidak mengandung duplikasi baris (duplicated-rows)\n"
      ]
    },
    {
      "cell_type": "markdown",
      "metadata": {
        "id": "j4QvA9nrvzRi",
        "colab_type": "text"
      },
      "source": [
        "## 5. Lakukan pengecekan variabel target.\n",
        "Ada berapa kategori pada variable target?<br>\n",
        "Berapa proporsinya?<br>\n",
        "Lakukan visualisasi yang menunjukkan PROPORSI kelas target.\n",
        "\n",
        ">Jawaban di bawah ini:"
      ]
    },
    {
      "cell_type": "code",
      "metadata": {
        "id": "IKaMf_fXu90T",
        "colab_type": "code",
        "colab": {
          "base_uri": "https://localhost:8080/",
          "height": 34
        },
        "outputId": "643fdf17-c053-4f78-8bb6-bfd7dce8a797"
      },
      "source": [
        "#Ada berapa kategori pada variable target?\n",
        "data['not.fully.paid'].unique()"
      ],
      "execution_count": 28,
      "outputs": [
        {
          "output_type": "execute_result",
          "data": {
            "text/plain": [
              "array([0, 1])"
            ]
          },
          "metadata": {
            "tags": []
          },
          "execution_count": 28
        }
      ]
    },
    {
      "cell_type": "markdown",
      "metadata": {
        "id": "E34t702fwRQd",
        "colab_type": "text"
      },
      "source": [
        "> Ada 2 kategori pada variabel target, yaitu 0 dan 1."
      ]
    },
    {
      "cell_type": "code",
      "metadata": {
        "id": "aQ-fOHSkwJ70",
        "colab_type": "code",
        "colab": {
          "base_uri": "https://localhost:8080/",
          "height": 68
        },
        "outputId": "8c3c146a-5a1b-41b3-bb73-a49e6920bab9"
      },
      "source": [
        "#Berapa proporsinya?\n",
        "target_proportion=data['not.fully.paid'].value_counts()\n",
        "target_proportion"
      ],
      "execution_count": 51,
      "outputs": [
        {
          "output_type": "execute_result",
          "data": {
            "text/plain": [
              "0    8045\n",
              "1    1533\n",
              "Name: not.fully.paid, dtype: int64"
            ]
          },
          "metadata": {
            "tags": []
          },
          "execution_count": 51
        }
      ]
    },
    {
      "cell_type": "code",
      "metadata": {
        "id": "cWf9TMX1yjPS",
        "colab_type": "code",
        "colab": {
          "base_uri": "https://localhost:8080/",
          "height": 329
        },
        "outputId": "c7da2511-30b7-47e7-9a8e-4e44b08b2118"
      },
      "source": [
        "#Lakukan visualisasi yang menunjukkan PROPORSI kelas target.\n",
        "plt.style.use('ggplot')\n",
        "f=plt.figure(figsize=(20,10))\n",
        "\n",
        "#bar plot\n",
        "f.add_subplot(2,2,1)\n",
        "plt.title('Target Proportion')\n",
        "sns.countplot(data['not.fully.paid'])\n",
        "\n",
        "#define color, and label of the chart\n",
        "f.add_subplot(2,2,2)\n",
        "#build the pie chart\n",
        "plt.title('Target Proportion')\n",
        "plt.pie(target_proportion,labels=['0', '1'],\n",
        "        autopct='%1.2f%%')\n",
        "\n",
        "plt.axis('equal')\n",
        "\n",
        "plt.show()"
      ],
      "execution_count": 91,
      "outputs": [
        {
          "output_type": "display_data",
          "data": {
            "image/png": "[encoded data removed]",
            "text/plain": [
              "<Figure size 1440x720 with 2 Axes>"
            ]
          },
          "metadata": {
            "tags": []
          }
        }
      ]
    },
    {
      "cell_type": "markdown",
      "metadata": {
        "id": "hFFEW5Rl0bZj",
        "colab_type": "text"
      },
      "source": [
        "> Proporsi kategori pada variabel target:\n",
        " 1. Kelas 0 : 8045 atau sama dengan 83.99%\n",
        " 2. Kelas 1 : 1533 atau sama dengan 16.01%"
      ]
    },
    {
      "cell_type": "markdown",
      "metadata": {
        "id": "r4bn32AR3rhy",
        "colab_type": "text"
      },
      "source": [
        "## 6. Berapa variansi (ragam) nilai installment?\n",
        "\n",
        ">Jawaban di bawah ini:"
      ]
    },
    {
      "cell_type": "code",
      "metadata": {
        "id": "2HlDzf3Z0RAK",
        "colab_type": "code",
        "colab": {
          "base_uri": "https://localhost:8080/",
          "height": 34
        },
        "outputId": "5f5da9ce-138a-4cab-87e5-dc29a34490ff"
      },
      "source": [
        "print ('Variansi Nilai Installment :' , (round(data['installment'].var(),3)))"
      ],
      "execution_count": 65,
      "outputs": [
        {
          "output_type": "stream",
          "text": [
            "Variansi Nilai Installment : 42878.524\n"
          ],
          "name": "stdout"
        }
      ]
    },
    {
      "cell_type": "markdown",
      "metadata": {
        "id": "ZE4g4qE4_0hE",
        "colab_type": "text"
      },
      "source": [
        "## 7. Berapa nilai simpangan kuartil pada variable ‘installment’?\n",
        "\n",
        "> Jawaban di bawah ini:"
      ]
    },
    {
      "cell_type": "code",
      "metadata": {
        "id": "BdLFDKMY3_do",
        "colab_type": "code",
        "colab": {
          "base_uri": "https://localhost:8080/",
          "height": 34
        },
        "outputId": "186efb87-5813-46ce-f839-04a1f50248b0"
      },
      "source": [
        "from scipy.stats import iqr\n",
        "print ('Simpangan Kuartil Installment :' , (round(iqr(data.installment),3)))"
      ],
      "execution_count": 66,
      "outputs": [
        {
          "output_type": "stream",
          "text": [
            "Simpangan Kuartil Installment : 268.992\n"
          ],
          "name": "stdout"
        }
      ]
    },
    {
      "cell_type": "markdown",
      "metadata": {
        "id": "n84CKKS5AgjI",
        "colab_type": "text"
      },
      "source": [
        "## 8. Berapa nilai installment tertinggi untuk masing-masing tujuan pinjaman (masing-masing kategori pada variable ‘purpose’)?\n",
        "\n",
        "> Jawaban di bawah ini:"
      ]
    },
    {
      "cell_type": "code",
      "metadata": {
        "id": "y1n_a171At-x",
        "colab_type": "code",
        "colab": {
          "base_uri": "https://localhost:8080/",
          "height": 297
        },
        "outputId": "8424d7db-7649-46e8-b791-eceb34c65ccb"
      },
      "source": [
        "pd.DataFrame(data['installment'].groupby(data['purpose']).max())"
      ],
      "execution_count": 75,
      "outputs": [
        {
          "output_type": "execute_result",
          "data": {
            "text/html": [
              "<div>\n",
              "<style scoped>\n",
              "    .dataframe tbody tr th:only-of-type {\n",
              "        vertical-align: middle;\n",
              "    }\n",
              "\n",
              "    .dataframe tbody tr th {\n",
              "        vertical-align: top;\n",
              "    }\n",
              "\n",
              "    .dataframe thead th {\n",
              "        text-align: right;\n",
              "    }\n",
              "</style>\n",
              "<table border=\"1\" class=\"dataframe\">\n",
              "  <thead>\n",
              "    <tr style=\"text-align: right;\">\n",
              "      <th></th>\n",
              "      <th>installment</th>\n",
              "    </tr>\n",
              "    <tr>\n",
              "      <th>purpose</th>\n",
              "      <th></th>\n",
              "    </tr>\n",
              "  </thead>\n",
              "  <tbody>\n",
              "    <tr>\n",
              "      <th>all_other</th>\n",
              "      <td>916.95</td>\n",
              "    </tr>\n",
              "    <tr>\n",
              "      <th>credit_card</th>\n",
              "      <td>922.42</td>\n",
              "    </tr>\n",
              "    <tr>\n",
              "      <th>debt_consolidation</th>\n",
              "      <td>940.14</td>\n",
              "    </tr>\n",
              "    <tr>\n",
              "      <th>educational</th>\n",
              "      <td>861.88</td>\n",
              "    </tr>\n",
              "    <tr>\n",
              "      <th>home_improvement</th>\n",
              "      <td>902.06</td>\n",
              "    </tr>\n",
              "    <tr>\n",
              "      <th>major_purchase</th>\n",
              "      <td>898.55</td>\n",
              "    </tr>\n",
              "    <tr>\n",
              "      <th>small_business</th>\n",
              "      <td>926.83</td>\n",
              "    </tr>\n",
              "  </tbody>\n",
              "</table>\n",
              "</div>"
            ],
            "text/plain": [
              "                    installment\n",
              "purpose                        \n",
              "all_other                916.95\n",
              "credit_card              922.42\n",
              "debt_consolidation       940.14\n",
              "educational              861.88\n",
              "home_improvement         902.06\n",
              "major_purchase           898.55\n",
              "small_business           926.83"
            ]
          },
          "metadata": {
            "tags": []
          },
          "execution_count": 75
        }
      ]
    },
    {
      "cell_type": "markdown",
      "metadata": {
        "id": "HidnFyh4D9uY",
        "colab_type": "text"
      },
      "source": [
        "## 9. Variable ‘purpose’ menunjukkan tujuan pengajuan pinjaman.\n",
        "Ada berapa kategori pada variable tersebut?<br>\n",
        "Visualisasikan frekuensi pinjaman berdasarkan tujuannya, diurutkan dari frekuensi tertinggi.\n",
        "\n",
        ">Jawaban di bawah ini:"
      ]
    },
    {
      "cell_type": "code",
      "metadata": {
        "id": "yB15bz_4Bt-q",
        "colab_type": "code",
        "colab": {
          "base_uri": "https://localhost:8080/",
          "height": 68
        },
        "outputId": "269d1188-c2f1-455a-c131-60d6c8a11f0a"
      },
      "source": [
        "#Ada berapa kategori pada variable tersebut?\n",
        "data['purpose'].unique()"
      ],
      "execution_count": 76,
      "outputs": [
        {
          "output_type": "execute_result",
          "data": {
            "text/plain": [
              "array(['debt_consolidation', 'credit_card', 'all_other',\n",
              "       'home_improvement', 'small_business', 'major_purchase',\n",
              "       'educational'], dtype=object)"
            ]
          },
          "metadata": {
            "tags": []
          },
          "execution_count": 76
        }
      ]
    },
    {
      "cell_type": "markdown",
      "metadata": {
        "id": "yfvDg66MENxo",
        "colab_type": "text"
      },
      "source": [
        "> Terdapat 7 kategori pada variabel 'purpose', yaitu seperti pada jawaban diatas."
      ]
    },
    {
      "cell_type": "code",
      "metadata": {
        "id": "IJMdC0jsEL8U",
        "colab_type": "code",
        "colab": {
          "base_uri": "https://localhost:8080/",
          "height": 470
        },
        "outputId": "078aee96-2ce0-4967-a6f4-612c089b6894"
      },
      "source": [
        "#Visualisasikan frekuensi pinjaman berdasarkan tujuannya, diurutkan dari frekuensi tertinggi.\n",
        "plt.style.use('ggplot')\n",
        "f=plt.figure(figsize=(25,15))\n",
        "\n",
        "#bar plot\n",
        "f.add_subplot(2,2,1)\n",
        "plt.title('Purpose Frekuensi')\n",
        "sns.countplot(data['purpose'], order= data['purpose'].value_counts().index)"
      ],
      "execution_count": 88,
      "outputs": [
        {
          "output_type": "execute_result",
          "data": {
            "text/plain": [
              "<matplotlib.axes._subplots.AxesSubplot at 0x7fcbd60a6e48>"
            ]
          },
          "metadata": {
            "tags": []
          },
          "execution_count": 88
        },
        {
          "output_type": "display_data",
          "data": {
            "image/png": "[encoded data removed]",
            "text/plain": [
              "<Figure size 1800x1080 with 1 Axes>"
            ]
          },
          "metadata": {
            "tags": []
          }
        }
      ]
    },
    {
      "cell_type": "markdown",
      "metadata": {
        "id": "Mct5hKvxGGoI",
        "colab_type": "text"
      },
      "source": [
        "## 10. Apakah variable ‘fico’ merupakan predictor yang potensial untuk memprediksi target? Jelaskan argumen anda. Hint: Visualisasikan distribusi ‘fico’ terhadap target.\n",
        "\n",
        ">Jawaban di bawah ini :"
      ]
    },
    {
      "cell_type": "code",
      "metadata": {
        "id": "UUotop2PHvXL",
        "colab_type": "code",
        "colab": {
          "base_uri": "https://localhost:8080/",
          "height": 615
        },
        "outputId": "7a5fd12b-de4d-45db-a357-43e532df31d8"
      },
      "source": [
        "#We want to know the correlation between target variable and 'fico'variables by using pearson\n",
        "import numpy as np\n",
        "#create correlation with heatmap\n",
        "mask = np.array(corr)\n",
        "fig, axs = plt.subplots(figsize = (10,10))\n",
        "fig.set_size_inches(10,10)\n",
        "mask[np.tril_indices_from(mask)] = False\n",
        "sns.heatmap(data.corr(),\n",
        "            mask = mask, \n",
        "            square = True, \n",
        "            annot = True, \n",
        "            cmap='YlGnBu')"
      ],
      "execution_count": 109,
      "outputs": [
        {
          "output_type": "execute_result",
          "data": {
            "text/plain": [
              "<matplotlib.axes._subplots.AxesSubplot at 0x7fcbd1a56780>"
            ]
          },
          "metadata": {
            "tags": []
          },
          "execution_count": 109
        },
        {
          "output_type": "display_data",
          "data": {
            "image/png": "[encoded data removed]",
            "text/plain": [
              "<Figure size 720x720 with 2 Axes>"
            ]
          },
          "metadata": {
            "tags": []
          }
        }
      ]
    },
    {
      "cell_type": "code",
      "metadata": {
        "id": "19B-Wm4EOG_x",
        "colab_type": "code",
        "colab": {
          "base_uri": "https://localhost:8080/",
          "height": 408
        },
        "outputId": "88b32039-1f19-4f05-8567-a2a2ac60a348"
      },
      "source": [
        "plt.style.use('ggplot')\n",
        "f=plt.figure(figsize=(6,6))\n",
        "sns.boxplot(y=data['fico'],x=data['not.fully.paid'])"
      ],
      "execution_count": 112,
      "outputs": [
        {
          "output_type": "execute_result",
          "data": {
            "text/plain": [
              "<matplotlib.axes._subplots.AxesSubplot at 0x7fcbd17a2b00>"
            ]
          },
          "metadata": {
            "tags": []
          },
          "execution_count": 112
        },
        {
          "output_type": "display_data",
          "data": {
            "image/png": "[encoded data removed]",
            "text/plain": [
              "<Figure size 432x432 with 1 Axes>"
            ]
          },
          "metadata": {
            "tags": []
          }
        }
      ]
    },
    {
      "cell_type": "markdown",
      "metadata": {
        "id": "jgxeU0YgKYLc",
        "colab_type": "text"
      },
      "source": [
        ">Dapat dilihat dari visualisasi korelasi dengan heatmap bahwa nilai korelasi antara variabel 'fico' dan variabel target bernilai negatif yaitu -0.15. <br>\n",
        "Dapatdilihat juga pada visualisasi distribusi boxplot diatas bahwa range variabel fico pada setiap variabel target tidak jauh berbeda.<br>\n",
        "Dimana dapat diartikan bahwa variabel 'fico' tidak memiliki pengaruh terhadap variabel target dan bukan merupakan prediktor yang potensial untuk memprediksi target."
      ]
    },
    {
      "cell_type": "markdown",
      "metadata": {
        "id": "GPF5KEIyNf7r",
        "colab_type": "text"
      },
      "source": [
        "## 11. Apakah variable ‘purpose’ merupakan predictor yang potensial untuk memprediksi target? Jelaskan argumen anda.\n",
        "Hint: Visualisasikan proporsi setiap kategori dalam variable ‘purpose’ terhadap target. Fungsi pd.crosstab akan membantu.\n",
        "\n",
        ">Jawaban di bawah ini:"
      ]
    },
    {
      "cell_type": "code",
      "metadata": {
        "id": "c3pA1xiNHgdI",
        "colab_type": "code",
        "colab": {
          "base_uri": "https://localhost:8080/",
          "height": 304
        },
        "outputId": "6f8715d9-0903-4fb7-9013-00b2cec2b0f7"
      },
      "source": [
        "pr=pd.crosstab(data['purpose'],data['not.fully.paid'],normalize='columns')\n",
        "sns.heatmap(pr,annot=True, cmap='YlGnBu')"
      ],
      "execution_count": 120,
      "outputs": [
        {
          "output_type": "execute_result",
          "data": {
            "text/plain": [
              "<matplotlib.axes._subplots.AxesSubplot at 0x7fcbd1408ba8>"
            ]
          },
          "metadata": {
            "tags": []
          },
          "execution_count": 120
        },
        {
          "output_type": "display_data",
          "data": {
            "image/png": "[encoded data removed]",
            "text/plain": [
              "<Figure size 432x288 with 2 Axes>"
            ]
          },
          "metadata": {
            "tags": []
          }
        }
      ]
    },
    {
      "cell_type": "markdown",
      "metadata": {
        "id": "BMq_KedBQmDQ",
        "colab_type": "text"
      },
      "source": [
        "> Dari visualisasi dengan crosstab diatas dapat dilihat bahwa variabel purpose tidak berpengaruh secara signifikan pada variabel target karena dapat dilihat proporsi nilai variabel purpose pada setiap variabel target tidak jauh berbeda yang direpresentasikan pada warna pada setiap kategori sama di setiap variabel target, kecuali untuk kategori 'small_business' yang memiliki perbedaan proporsi yang paling besar dibanding kategori lain."
      ]
    },
    {
      "cell_type": "markdown",
      "metadata": {
        "id": "31rphS2wQUX-",
        "colab_type": "text"
      },
      "source": [
        "> ## 12. Berapa nilai rata-rata dari int.rate untuk purpose dengan kategori ‘credit_card’?\n",
        "\n",
        ">Jawaban di bawah ini:"
      ]
    },
    {
      "cell_type": "code",
      "metadata": {
        "id": "ynroh7vEOqFf",
        "colab_type": "code",
        "colab": {
          "base_uri": "https://localhost:8080/",
          "height": 34
        },
        "outputId": "6e24beb3-b213-4ea6-b9f8-44228856b27a"
      },
      "source": [
        "mean = data[data['purpose'] == 'credit_card'].mean()\n",
        "print('Nilai rata-rata dari int.rate untuk purpose dengan kategori credit_card :',(round(mean['int.rate'],3)))"
      ],
      "execution_count": 123,
      "outputs": [
        {
          "output_type": "stream",
          "text": [
            "Nilai rata-rata dari int.rate untuk purpose dengan kategori credit_card : 0.12\n"
          ],
          "name": "stdout"
        }
      ]
    },
    {
      "cell_type": "markdown",
      "metadata": {
        "id": "B9jkm16kSlgU",
        "colab_type": "text"
      },
      "source": [
        "## 13. Berapa jumlah kasus pinjaman yang nilai installment-nya di atas 200 dan tujuan pinjamannya untuk pendidikan (educational) ?\n",
        "\n",
        ">Jawaban di bawah ini:"
      ]
    },
    {
      "cell_type": "code",
      "metadata": {
        "id": "8cY-GIIzSiwc",
        "colab_type": "code",
        "colab": {
          "base_uri": "https://localhost:8080/",
          "height": 34
        },
        "outputId": "0939656d-ba76-455a-d464-42588d8f91da"
      },
      "source": [
        "jumlah = len(data[(data['installment']>200) & (data['purpose'] == 'educational')])\n",
        "print('Jumlah kasus pinjaman dengan nilai installment > 200 dan purpose untuk educational :',jumlah)"
      ],
      "execution_count": 124,
      "outputs": [
        {
          "output_type": "stream",
          "text": [
            "Jumlah kasus pinjaman dengan nilai installment > 200 dan purpose untuk educational : 137\n"
          ],
          "name": "stdout"
        }
      ]
    },
    {
      "cell_type": "markdown",
      "metadata": {
        "id": "JyaLRy80TdeK",
        "colab_type": "text"
      },
      "source": [
        "## 14. Tuliskan script untuk memfilter purpose =’credit_card’ dan simpan dalam dataframe yang disebut loans3\n",
        "\n",
        ">Jawaban di bawha ini:"
      ]
    },
    {
      "cell_type": "code",
      "metadata": {
        "id": "ggcnYgYETbKt",
        "colab_type": "code",
        "colab": {
          "base_uri": "https://localhost:8080/",
          "height": 224
        },
        "outputId": "43c54929-1824-4ad9-fb17-6c6b538c3763"
      },
      "source": [
        "loans3 = pd.DataFrame(data[data['purpose'] == 'credit_card'])\n",
        "loans3.head()"
      ],
      "execution_count": 127,
      "outputs": [
        {
          "output_type": "execute_result",
          "data": {
            "text/html": [
              "<div>\n",
              "<style scoped>\n",
              "    .dataframe tbody tr th:only-of-type {\n",
              "        vertical-align: middle;\n",
              "    }\n",
              "\n",
              "    .dataframe tbody tr th {\n",
              "        vertical-align: top;\n",
              "    }\n",
              "\n",
              "    .dataframe thead th {\n",
              "        text-align: right;\n",
              "    }\n",
              "</style>\n",
              "<table border=\"1\" class=\"dataframe\">\n",
              "  <thead>\n",
              "    <tr style=\"text-align: right;\">\n",
              "      <th></th>\n",
              "      <th>credit.policy</th>\n",
              "      <th>purpose</th>\n",
              "      <th>int.rate</th>\n",
              "      <th>installment</th>\n",
              "      <th>log.annual.inc</th>\n",
              "      <th>dti</th>\n",
              "      <th>fico</th>\n",
              "      <th>days.with.cr.line</th>\n",
              "      <th>revol.bal</th>\n",
              "      <th>revol.util</th>\n",
              "      <th>inq.last.6mths</th>\n",
              "      <th>delinq.2yrs</th>\n",
              "      <th>pub.rec</th>\n",
              "      <th>not.fully.paid</th>\n",
              "    </tr>\n",
              "  </thead>\n",
              "  <tbody>\n",
              "    <tr>\n",
              "      <th>1</th>\n",
              "      <td>1</td>\n",
              "      <td>credit_card</td>\n",
              "      <td>0.1071</td>\n",
              "      <td>228.22</td>\n",
              "      <td>11.082143</td>\n",
              "      <td>14.29</td>\n",
              "      <td>707</td>\n",
              "      <td>2760.000000</td>\n",
              "      <td>33623</td>\n",
              "      <td>76.7</td>\n",
              "      <td>0</td>\n",
              "      <td>0</td>\n",
              "      <td>0</td>\n",
              "      <td>0</td>\n",
              "    </tr>\n",
              "    <tr>\n",
              "      <th>4</th>\n",
              "      <td>1</td>\n",
              "      <td>credit_card</td>\n",
              "      <td>0.1426</td>\n",
              "      <td>102.92</td>\n",
              "      <td>11.299732</td>\n",
              "      <td>14.97</td>\n",
              "      <td>667</td>\n",
              "      <td>4066.000000</td>\n",
              "      <td>4740</td>\n",
              "      <td>39.5</td>\n",
              "      <td>0</td>\n",
              "      <td>1</td>\n",
              "      <td>0</td>\n",
              "      <td>0</td>\n",
              "    </tr>\n",
              "    <tr>\n",
              "      <th>5</th>\n",
              "      <td>1</td>\n",
              "      <td>credit_card</td>\n",
              "      <td>0.0788</td>\n",
              "      <td>125.13</td>\n",
              "      <td>11.904968</td>\n",
              "      <td>16.98</td>\n",
              "      <td>727</td>\n",
              "      <td>6120.041667</td>\n",
              "      <td>50807</td>\n",
              "      <td>51.0</td>\n",
              "      <td>0</td>\n",
              "      <td>0</td>\n",
              "      <td>0</td>\n",
              "      <td>0</td>\n",
              "    </tr>\n",
              "    <tr>\n",
              "      <th>17</th>\n",
              "      <td>1</td>\n",
              "      <td>credit_card</td>\n",
              "      <td>0.0894</td>\n",
              "      <td>476.58</td>\n",
              "      <td>11.608236</td>\n",
              "      <td>7.07</td>\n",
              "      <td>797</td>\n",
              "      <td>6510.958333</td>\n",
              "      <td>7586</td>\n",
              "      <td>52.7</td>\n",
              "      <td>1</td>\n",
              "      <td>0</td>\n",
              "      <td>0</td>\n",
              "      <td>0</td>\n",
              "    </tr>\n",
              "    <tr>\n",
              "      <th>22</th>\n",
              "      <td>1</td>\n",
              "      <td>credit_card</td>\n",
              "      <td>0.1355</td>\n",
              "      <td>339.60</td>\n",
              "      <td>11.512925</td>\n",
              "      <td>7.94</td>\n",
              "      <td>662</td>\n",
              "      <td>1939.958333</td>\n",
              "      <td>21162</td>\n",
              "      <td>57.7</td>\n",
              "      <td>0</td>\n",
              "      <td>0</td>\n",
              "      <td>0</td>\n",
              "      <td>0</td>\n",
              "    </tr>\n",
              "  </tbody>\n",
              "</table>\n",
              "</div>"
            ],
            "text/plain": [
              "    credit.policy      purpose  int.rate  ...  delinq.2yrs  pub.rec  not.fully.paid\n",
              "1               1  credit_card    0.1071  ...            0        0               0\n",
              "4               1  credit_card    0.1426  ...            1        0               0\n",
              "5               1  credit_card    0.0788  ...            0        0               0\n",
              "17              1  credit_card    0.0894  ...            0        0               0\n",
              "22              1  credit_card    0.1355  ...            0        0               0\n",
              "\n",
              "[5 rows x 14 columns]"
            ]
          },
          "metadata": {
            "tags": []
          },
          "execution_count": 127
        }
      ]
    },
    {
      "cell_type": "markdown",
      "metadata": {
        "id": "BfRuTKbrT2pt",
        "colab_type": "text"
      },
      "source": [
        "## 15. Siapkan data untuk pemodelan.\n",
        "Ubah data kategorik menjadi dummy variabel.<br>\n",
        "Buat dataframe baru bernama ‘final_data’ yang berisi seluruh features (numerik dan kategorik) dengan peubah kategorik yang sudah diubah menjadi dummy variabel.\n",
        "\n",
        ">Jawaban di bawah ini:"
      ]
    },
    {
      "cell_type": "code",
      "metadata": {
        "id": "qoq7rD5cTuUM",
        "colab_type": "code",
        "colab": {
          "base_uri": "https://localhost:8080/",
          "height": 224
        },
        "outputId": "a2234b93-15e1-4e60-fdc1-58d195b9dc6a"
      },
      "source": [
        "final_data = pd.get_dummies(data=data, drop_first=True)\n",
        "final_data.head()"
      ],
      "execution_count": 129,
      "outputs": [
        {
          "output_type": "execute_result",
          "data": {
            "text/html": [
              "<div>\n",
              "<style scoped>\n",
              "    .dataframe tbody tr th:only-of-type {\n",
              "        vertical-align: middle;\n",
              "    }\n",
              "\n",
              "    .dataframe tbody tr th {\n",
              "        vertical-align: top;\n",
              "    }\n",
              "\n",
              "    .dataframe thead th {\n",
              "        text-align: right;\n",
              "    }\n",
              "</style>\n",
              "<table border=\"1\" class=\"dataframe\">\n",
              "  <thead>\n",
              "    <tr style=\"text-align: right;\">\n",
              "      <th></th>\n",
              "      <th>credit.policy</th>\n",
              "      <th>int.rate</th>\n",
              "      <th>installment</th>\n",
              "      <th>log.annual.inc</th>\n",
              "      <th>dti</th>\n",
              "      <th>fico</th>\n",
              "      <th>days.with.cr.line</th>\n",
              "      <th>revol.bal</th>\n",
              "      <th>revol.util</th>\n",
              "      <th>inq.last.6mths</th>\n",
              "      <th>delinq.2yrs</th>\n",
              "      <th>pub.rec</th>\n",
              "      <th>not.fully.paid</th>\n",
              "      <th>purpose_credit_card</th>\n",
              "      <th>purpose_debt_consolidation</th>\n",
              "      <th>purpose_educational</th>\n",
              "      <th>purpose_home_improvement</th>\n",
              "      <th>purpose_major_purchase</th>\n",
              "      <th>purpose_small_business</th>\n",
              "    </tr>\n",
              "  </thead>\n",
              "  <tbody>\n",
              "    <tr>\n",
              "      <th>0</th>\n",
              "      <td>1</td>\n",
              "      <td>0.1189</td>\n",
              "      <td>829.10</td>\n",
              "      <td>11.350407</td>\n",
              "      <td>19.48</td>\n",
              "      <td>737</td>\n",
              "      <td>5639.958333</td>\n",
              "      <td>28854</td>\n",
              "      <td>52.1</td>\n",
              "      <td>0</td>\n",
              "      <td>0</td>\n",
              "      <td>0</td>\n",
              "      <td>0</td>\n",
              "      <td>0</td>\n",
              "      <td>1</td>\n",
              "      <td>0</td>\n",
              "      <td>0</td>\n",
              "      <td>0</td>\n",
              "      <td>0</td>\n",
              "    </tr>\n",
              "    <tr>\n",
              "      <th>1</th>\n",
              "      <td>1</td>\n",
              "      <td>0.1071</td>\n",
              "      <td>228.22</td>\n",
              "      <td>11.082143</td>\n",
              "      <td>14.29</td>\n",
              "      <td>707</td>\n",
              "      <td>2760.000000</td>\n",
              "      <td>33623</td>\n",
              "      <td>76.7</td>\n",
              "      <td>0</td>\n",
              "      <td>0</td>\n",
              "      <td>0</td>\n",
              "      <td>0</td>\n",
              "      <td>1</td>\n",
              "      <td>0</td>\n",
              "      <td>0</td>\n",
              "      <td>0</td>\n",
              "      <td>0</td>\n",
              "      <td>0</td>\n",
              "    </tr>\n",
              "    <tr>\n",
              "      <th>2</th>\n",
              "      <td>1</td>\n",
              "      <td>0.1357</td>\n",
              "      <td>366.86</td>\n",
              "      <td>10.373491</td>\n",
              "      <td>11.63</td>\n",
              "      <td>682</td>\n",
              "      <td>4710.000000</td>\n",
              "      <td>3511</td>\n",
              "      <td>25.6</td>\n",
              "      <td>1</td>\n",
              "      <td>0</td>\n",
              "      <td>0</td>\n",
              "      <td>0</td>\n",
              "      <td>0</td>\n",
              "      <td>1</td>\n",
              "      <td>0</td>\n",
              "      <td>0</td>\n",
              "      <td>0</td>\n",
              "      <td>0</td>\n",
              "    </tr>\n",
              "    <tr>\n",
              "      <th>3</th>\n",
              "      <td>1</td>\n",
              "      <td>0.1008</td>\n",
              "      <td>162.34</td>\n",
              "      <td>11.350407</td>\n",
              "      <td>8.10</td>\n",
              "      <td>712</td>\n",
              "      <td>2699.958333</td>\n",
              "      <td>33667</td>\n",
              "      <td>73.2</td>\n",
              "      <td>1</td>\n",
              "      <td>0</td>\n",
              "      <td>0</td>\n",
              "      <td>0</td>\n",
              "      <td>0</td>\n",
              "      <td>1</td>\n",
              "      <td>0</td>\n",
              "      <td>0</td>\n",
              "      <td>0</td>\n",
              "      <td>0</td>\n",
              "    </tr>\n",
              "    <tr>\n",
              "      <th>4</th>\n",
              "      <td>1</td>\n",
              "      <td>0.1426</td>\n",
              "      <td>102.92</td>\n",
              "      <td>11.299732</td>\n",
              "      <td>14.97</td>\n",
              "      <td>667</td>\n",
              "      <td>4066.000000</td>\n",
              "      <td>4740</td>\n",
              "      <td>39.5</td>\n",
              "      <td>0</td>\n",
              "      <td>1</td>\n",
              "      <td>0</td>\n",
              "      <td>0</td>\n",
              "      <td>1</td>\n",
              "      <td>0</td>\n",
              "      <td>0</td>\n",
              "      <td>0</td>\n",
              "      <td>0</td>\n",
              "      <td>0</td>\n",
              "    </tr>\n",
              "  </tbody>\n",
              "</table>\n",
              "</div>"
            ],
            "text/plain": [
              "   credit.policy  int.rate  ...  purpose_major_purchase  purpose_small_business\n",
              "0              1    0.1189  ...                       0                       0\n",
              "1              1    0.1071  ...                       0                       0\n",
              "2              1    0.1357  ...                       0                       0\n",
              "3              1    0.1008  ...                       0                       0\n",
              "4              1    0.1426  ...                       0                       0\n",
              "\n",
              "[5 rows x 19 columns]"
            ]
          },
          "metadata": {
            "tags": []
          },
          "execution_count": 129
        }
      ]
    },
    {
      "cell_type": "markdown",
      "metadata": {
        "id": "zo7zSa9kUkjB",
        "colab_type": "text"
      },
      "source": [
        "## 16. Split final_data yang didapatkan dari soal sebelumnya menjadi data train dan data test. Proporsi data test adalah 0.30. Gunakan random_state = 101.\n",
        "\n",
        ">Jawaban di bawah ini:"
      ]
    },
    {
      "cell_type": "code",
      "metadata": {
        "id": "zmQoMfo9UXZ3",
        "colab_type": "code",
        "colab": {}
      },
      "source": [
        "y=final_data['not.fully.paid']\n",
        "X=final_data.drop(columns='not.fully.paid')\n",
        "\n",
        "from sklearn.model_selection import train_test_split\n",
        "X_training,X_testing,y_training,y_testing = train_test_split(X, y,test_size=0.3,random_state=101)"
      ],
      "execution_count": 0,
      "outputs": []
    },
    {
      "cell_type": "markdown",
      "metadata": {
        "id": "9ywqzHLJVDvW",
        "colab_type": "text"
      },
      "source": [
        "## 17. Buatlah sebuah instance DecisionTreeClassifier yang disebut ‘dtree’ dan buatlah model dari training data menggunakan dtree tersebut.\n",
        "\n",
        ">Jawaban di bawah ini:"
      ]
    },
    {
      "cell_type": "code",
      "metadata": {
        "id": "cwCVabUmVDdz",
        "colab_type": "code",
        "colab": {
          "base_uri": "https://localhost:8080/",
          "height": 119
        },
        "outputId": "d4baaefd-2856-4443-98bf-12836dc1687d"
      },
      "source": [
        "dtree=DecisionTreeClassifier()\n",
        "dtree.fit(X_training, y_training)"
      ],
      "execution_count": 131,
      "outputs": [
        {
          "output_type": "execute_result",
          "data": {
            "text/plain": [
              "DecisionTreeClassifier(class_weight=None, criterion='gini', max_depth=None,\n",
              "                       max_features=None, max_leaf_nodes=None,\n",
              "                       min_impurity_decrease=0.0, min_impurity_split=None,\n",
              "                       min_samples_leaf=1, min_samples_split=2,\n",
              "                       min_weight_fraction_leaf=0.0, presort=False,\n",
              "                       random_state=None, splitter='best')"
            ]
          },
          "metadata": {
            "tags": []
          },
          "execution_count": 131
        }
      ]
    },
    {
      "cell_type": "markdown",
      "metadata": {
        "id": "_5UHHqe8Voto",
        "colab_type": "text"
      },
      "source": [
        "## 18. Buatlah script untuk meprediksi target pada data test dengan menggunakan model yang telah dibuat sebelumnya, simpan dalam variable ‘predictions’\n",
        "\n",
        ">Jawaban di bawah ini:"
      ]
    },
    {
      "cell_type": "code",
      "metadata": {
        "id": "cUuV585tVCI-",
        "colab_type": "code",
        "colab": {}
      },
      "source": [
        "predictions=dtree.predict(X_testing)"
      ],
      "execution_count": 0,
      "outputs": []
    },
    {
      "cell_type": "markdown",
      "metadata": {
        "id": "nTqpjToGV4rW",
        "colab_type": "text"
      },
      "source": [
        "## 19. Tampilkan confusion matrix antara hasil prediksi dan target data test.\n",
        "\n",
        ">Jawaban di bawah ini:"
      ]
    },
    {
      "cell_type": "code",
      "metadata": {
        "id": "3ITl49qxYMzb",
        "colab_type": "code",
        "colab": {
          "base_uri": "https://localhost:8080/",
          "height": 85
        },
        "outputId": "858c5fbc-c828-4a83-e07c-3cef8449f62e"
      },
      "source": [
        "confusion_matrix = pd.crosstab(y_testing, predictions, rownames=['Actual'], colnames=['Prediction'])\n",
        "print(confusion_matrix)"
      ],
      "execution_count": 149,
      "outputs": [
        {
          "output_type": "stream",
          "text": [
            "Prediction     0    1\n",
            "Actual               \n",
            "0           1996  435\n",
            "1            340  103\n"
          ],
          "name": "stdout"
        }
      ]
    },
    {
      "cell_type": "code",
      "metadata": {
        "id": "Rvwbus15V3vs",
        "colab_type": "code",
        "colab": {
          "base_uri": "https://localhost:8080/",
          "height": 304
        },
        "outputId": "80d3c352-fdb9-4a70-8018-2f7865176d22"
      },
      "source": [
        "from sklearn.metrics import confusion_matrix\n",
        "confusion_matrix = pd.crosstab(y_testing, predictions, rownames=['Actual'], colnames=['Prediction'])\n",
        "sns.heatmap(confusion_matrix, annot=True, cmap='YlGnBu')"
      ],
      "execution_count": 150,
      "outputs": [
        {
          "output_type": "execute_result",
          "data": {
            "text/plain": [
              "<matplotlib.axes._subplots.AxesSubplot at 0x7fcbd0dc4160>"
            ]
          },
          "metadata": {
            "tags": []
          },
          "execution_count": 150
        },
        {
          "output_type": "display_data",
          "data": {
            "image/png": "[encoded data removed]",
            "text/plain": [
              "<Figure size 432x288 with 2 Axes>"
            ]
          },
          "metadata": {
            "tags": []
          }
        }
      ]
    },
    {
      "cell_type": "markdown",
      "metadata": {
        "id": "dkuBxU4rbMFU",
        "colab_type": "text"
      },
      "source": [
        "> Berdasarkan confusion matrix diatas dapat diketahuin bahwa model tidak cukup baik karena nilai True Positive yang didapatkan hanya 103 dibandingkan dengan banyaknya data yang terprediksi benar untuk mendapatkan precision dan data yang sebenarnya benar untuk mendapatkan recall yang akan menyebabkan nilai precision dan recall nantinya akan kecil juga."
      ]
    },
    {
      "cell_type": "markdown",
      "metadata": {
        "id": "dNJtBXLIatHT",
        "colab_type": "text"
      },
      "source": [
        "## 20. Tampilkan ukuran kebaikan model, setidaknya nilai Akurasi, Sensitivity dan Specificity.\n",
        "\n",
        ">Jawaban di bawah ini:"
      ]
    },
    {
      "cell_type": "code",
      "metadata": {
        "id": "7Cx1dXG_Y4MR",
        "colab_type": "code",
        "colab": {
          "base_uri": "https://localhost:8080/",
          "height": 68
        },
        "outputId": "5d7e5c84-2c19-4d01-bb86-4f970900fa9a"
      },
      "source": [
        "from sklearn.metrics import confusion_matrix\n",
        "conf = confusion_matrix(predictions,y_testing)\n",
        "total=sum(sum(conf))\n",
        "accuracy=(conf[0,0]+conf[1,1])/total\n",
        "print('Accuracy    : ', round(accuracy*100,2))\n",
        "\n",
        "specificity = conf[0,0]/(conf[0,0]+conf[0,1])\n",
        "print('Specificity : ', round(specificity*100,2))\n",
        "\n",
        "sensitivity = conf[1,1]/(conf[1,0]+conf[1,1])\n",
        "print('Sensitivity : ', round(sensitivity*100,2))"
      ],
      "execution_count": 153,
      "outputs": [
        {
          "output_type": "stream",
          "text": [
            "Accuracy    :  73.03\n",
            "Specificity :  85.45\n",
            "Sensitivity :  19.14\n"
          ],
          "name": "stdout"
        }
      ]
    },
    {
      "cell_type": "markdown",
      "metadata": {
        "id": "cEgRpwOxfBwL",
        "colab_type": "text"
      },
      "source": [
        "> Berdasarkan hasil nilai akurasi diatas dapat dilihat bahwa model belum cukup baik dapat dilihat juga dari nilai sensitivity yang terbilang masih sangat kecil."
      ]
    },
    {
      "cell_type": "code",
      "metadata": {
        "id": "VM8gArMPdDnZ",
        "colab_type": "code",
        "colab": {}
      },
      "source": [
        ""
      ],
      "execution_count": 0,
      "outputs": []
    }
  ]
}